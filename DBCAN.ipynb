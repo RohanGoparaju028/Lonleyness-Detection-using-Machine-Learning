{
 "cells": [
  {
   "cell_type": "code",
   "execution_count": 1,
   "id": "3e54c771",
   "metadata": {},
   "outputs": [],
   "source": [
    "import pandas as pd\n",
    "import numpy as np\n",
    "from sklearn.cluster import DBSCAN\n",
    "from sklearn.metrics import silhouette_score\n",
    "from sklearn.preprocessing import normalize\n",
    "import matplotlib.pyplot as plt\n",
    "import umap.umap_ as umap\n",
    "from sentence_transformers import SentenceTransformer\n",
    "import re\n",
    "import json"
   ]
  },
  {
   "cell_type": "code",
   "execution_count": 2,
   "id": "1b3c69ed",
   "metadata": {},
   "outputs": [
    {
     "data": {
      "text/html": [
       "<div>\n",
       "<style scoped>\n",
       "    .dataframe tbody tr th:only-of-type {\n",
       "        vertical-align: middle;\n",
       "    }\n",
       "\n",
       "    .dataframe tbody tr th {\n",
       "        vertical-align: top;\n",
       "    }\n",
       "\n",
       "    .dataframe thead th {\n",
       "        text-align: right;\n",
       "    }\n",
       "</style>\n",
       "<table border=\"1\" class=\"dataframe\">\n",
       "  <thead>\n",
       "    <tr style=\"text-align: right;\">\n",
       "      <th></th>\n",
       "      <th>post_id</th>\n",
       "      <th>flair</th>\n",
       "      <th>title</th>\n",
       "      <th>text_body</th>\n",
       "      <th>author</th>\n",
       "      <th>score</th>\n",
       "      <th>num_comments</th>\n",
       "    </tr>\n",
       "  </thead>\n",
       "  <tbody>\n",
       "    <tr>\n",
       "      <th>0</th>\n",
       "      <td>1jwqkjk</td>\n",
       "      <td>Content Warning: Suicidal Thoughts / Self Harm</td>\n",
       "      <td>Struggling lately</td>\n",
       "      <td>I’m 16 and recently I’ve been feeling really d...</td>\n",
       "      <td>zkkkkkkkkk2008</td>\n",
       "      <td>1</td>\n",
       "      <td>1</td>\n",
       "    </tr>\n",
       "    <tr>\n",
       "      <th>1</th>\n",
       "      <td>1jwo3c6</td>\n",
       "      <td>Content Warning: Suicidal Thoughts / Self Harm</td>\n",
       "      <td>Went to hospital with suicidal thoughts</td>\n",
       "      <td>So I went to the hospital with an active plan ...</td>\n",
       "      <td>Frankenstien_Sloth</td>\n",
       "      <td>1</td>\n",
       "      <td>14</td>\n",
       "    </tr>\n",
       "    <tr>\n",
       "      <th>2</th>\n",
       "      <td>1jwnf53</td>\n",
       "      <td>Content Warning: Suicidal Thoughts / Self Harm</td>\n",
       "      <td>To the people I love</td>\n",
       "      <td>**To the People I Love,**\\n\\nI’ve been thinkin...</td>\n",
       "      <td>Prestigious_Duck08</td>\n",
       "      <td>2</td>\n",
       "      <td>5</td>\n",
       "    </tr>\n",
       "    <tr>\n",
       "      <th>3</th>\n",
       "      <td>1jwnbsg</td>\n",
       "      <td>Content Warning: Suicidal Thoughts / Self Harm</td>\n",
       "      <td>Am i traumatized because I have no friends or ...</td>\n",
       "      <td>This is just a question I have been wondering ...</td>\n",
       "      <td>Routine-Pound-591</td>\n",
       "      <td>1</td>\n",
       "      <td>5</td>\n",
       "    </tr>\n",
       "    <tr>\n",
       "      <th>4</th>\n",
       "      <td>1jwmhvs</td>\n",
       "      <td>Content Warning: Suicidal Thoughts / Self Harm</td>\n",
       "      <td>I’m reaching breaking point</td>\n",
       "      <td>I am lost. I am broken. I am trapped \\n\\nFor t...</td>\n",
       "      <td>Difficult_Body_1707</td>\n",
       "      <td>1</td>\n",
       "      <td>2</td>\n",
       "    </tr>\n",
       "    <tr>\n",
       "      <th>...</th>\n",
       "      <td>...</td>\n",
       "      <td>...</td>\n",
       "      <td>...</td>\n",
       "      <td>...</td>\n",
       "      <td>...</td>\n",
       "      <td>...</td>\n",
       "      <td>...</td>\n",
       "    </tr>\n",
       "    <tr>\n",
       "      <th>1177</th>\n",
       "      <td>1jl64w7</td>\n",
       "      <td>Advice Wanted</td>\n",
       "      <td>Went from KV to just V last night and felt... ...</td>\n",
       "      <td>I was a little afraid this would be the case. ...</td>\n",
       "      <td>thesuspiciouszed</td>\n",
       "      <td>10</td>\n",
       "      <td>4</td>\n",
       "    </tr>\n",
       "    <tr>\n",
       "      <th>1178</th>\n",
       "      <td>1jl3tzz</td>\n",
       "      <td>Advice Wanted</td>\n",
       "      <td>I am depressed all the time and people start n...</td>\n",
       "      <td>I can't lie to myself that's I am ok . I tried...</td>\n",
       "      <td>Electronic-Ad3532</td>\n",
       "      <td>15</td>\n",
       "      <td>3</td>\n",
       "    </tr>\n",
       "    <tr>\n",
       "      <th>1179</th>\n",
       "      <td>1jixod4</td>\n",
       "      <td>Advice Wanted</td>\n",
       "      <td>Does it get better after high school or is it ...</td>\n",
       "      <td>I'm about to graduate from high school and all...</td>\n",
       "      <td>RickyDickyPubicBalls</td>\n",
       "      <td>14</td>\n",
       "      <td>23</td>\n",
       "    </tr>\n",
       "    <tr>\n",
       "      <th>1180</th>\n",
       "      <td>1jyv17t</td>\n",
       "      <td>TW: Abuse</td>\n",
       "      <td>I finally understood genuinely nobody cares ab...</td>\n",
       "      <td>I have been emotionally &amp; physically abused si...</td>\n",
       "      <td>trynamakeitty</td>\n",
       "      <td>4</td>\n",
       "      <td>2</td>\n",
       "    </tr>\n",
       "    <tr>\n",
       "      <th>1181</th>\n",
       "      <td>1jy6hkm</td>\n",
       "      <td>TW: Drugs</td>\n",
       "      <td>Pills and weed are my only company</td>\n",
       "      <td>I’m just venting but I’ve been sober from opio...</td>\n",
       "      <td>Suspicious_Ad7893</td>\n",
       "      <td>2</td>\n",
       "      <td>1</td>\n",
       "    </tr>\n",
       "  </tbody>\n",
       "</table>\n",
       "<p>1182 rows × 7 columns</p>\n",
       "</div>"
      ],
      "text/plain": [
       "      post_id                                           flair  \\\n",
       "0     1jwqkjk  Content Warning: Suicidal Thoughts / Self Harm   \n",
       "1     1jwo3c6  Content Warning: Suicidal Thoughts / Self Harm   \n",
       "2     1jwnf53  Content Warning: Suicidal Thoughts / Self Harm   \n",
       "3     1jwnbsg  Content Warning: Suicidal Thoughts / Self Harm   \n",
       "4     1jwmhvs  Content Warning: Suicidal Thoughts / Self Harm   \n",
       "...       ...                                             ...   \n",
       "1177  1jl64w7                                   Advice Wanted   \n",
       "1178  1jl3tzz                                   Advice Wanted   \n",
       "1179  1jixod4                                   Advice Wanted   \n",
       "1180  1jyv17t                                       TW: Abuse   \n",
       "1181  1jy6hkm                                       TW: Drugs   \n",
       "\n",
       "                                                  title  \\\n",
       "0                                     Struggling lately   \n",
       "1               Went to hospital with suicidal thoughts   \n",
       "2                                  To the people I love   \n",
       "3     Am i traumatized because I have no friends or ...   \n",
       "4                           I’m reaching breaking point   \n",
       "...                                                 ...   \n",
       "1177  Went from KV to just V last night and felt... ...   \n",
       "1178  I am depressed all the time and people start n...   \n",
       "1179  Does it get better after high school or is it ...   \n",
       "1180  I finally understood genuinely nobody cares ab...   \n",
       "1181                 Pills and weed are my only company   \n",
       "\n",
       "                                              text_body                author  \\\n",
       "0     I’m 16 and recently I’ve been feeling really d...        zkkkkkkkkk2008   \n",
       "1     So I went to the hospital with an active plan ...    Frankenstien_Sloth   \n",
       "2     **To the People I Love,**\\n\\nI’ve been thinkin...    Prestigious_Duck08   \n",
       "3     This is just a question I have been wondering ...     Routine-Pound-591   \n",
       "4     I am lost. I am broken. I am trapped \\n\\nFor t...   Difficult_Body_1707   \n",
       "...                                                 ...                   ...   \n",
       "1177  I was a little afraid this would be the case. ...      thesuspiciouszed   \n",
       "1178  I can't lie to myself that's I am ok . I tried...     Electronic-Ad3532   \n",
       "1179  I'm about to graduate from high school and all...  RickyDickyPubicBalls   \n",
       "1180  I have been emotionally & physically abused si...         trynamakeitty   \n",
       "1181  I’m just venting but I’ve been sober from opio...     Suspicious_Ad7893   \n",
       "\n",
       "      score  num_comments  \n",
       "0         1             1  \n",
       "1         1            14  \n",
       "2         2             5  \n",
       "3         1             5  \n",
       "4         1             2  \n",
       "...     ...           ...  \n",
       "1177     10             4  \n",
       "1178     15             3  \n",
       "1179     14            23  \n",
       "1180      4             2  \n",
       "1181      2             1  \n",
       "\n",
       "[1182 rows x 7 columns]"
      ]
     },
     "execution_count": 2,
     "metadata": {},
     "output_type": "execute_result"
    }
   ],
   "source": [
    "with open('redditdata_combined.json', 'r', encoding='utf-8') as f:\n",
    "    data = json.load(f)\n",
    "\n",
    "# Assuming the JSON has a structure like {'flair': {flair_name: {post_id: post_data}}}\n",
    "# Flatten the nested structure\n",
    "records = []\n",
    "for flair, posts in data.get('flair', {}).items():\n",
    "    for post_id, post_info in posts.items():\n",
    "        record = {\n",
    "            'post_id': post_id,\n",
    "            'flair': flair,\n",
    "            'title': post_info.get('title', ''),\n",
    "            'text_body': post_info.get('text_body', ''),\n",
    "            'author': post_info.get('author', ''),\n",
    "            'score': post_info.get('score', 0),\n",
    "            'num_comments': post_info.get('num_comments', 0)\n",
    "        }\n",
    "        records.append(record)\n",
    "\n",
    "# Create a DataFrame\n",
    "df = pd.DataFrame(records)\n",
    "df"
   ]
  },
  {
   "cell_type": "code",
   "execution_count": 3,
   "id": "5a424220",
   "metadata": {},
   "outputs": [],
   "source": [
    "def clean_text(text):\n",
    "    text = text.lower()\n",
    "    text = re.sub(r\"http\\S+|www\\S+|https\\S+\", '', text, flags=re.MULTILINE)\n",
    "    text = re.sub(r'\\@w+|\\#', '', text)\n",
    "    text = re.sub(r'[^A-Za-z0-9\\s]+', '', text)\n",
    "    text = re.sub(r'\\s+', ' ', text).strip()\n",
    "    return text\n",
    "\n",
    "df['clean_title'] = df['title'].astype(str).apply(clean_text)\n",
    "df['clean_text_body'] = df['text_body'].astype(str).apply(clean_text)"
   ]
  },
  {
   "cell_type": "code",
   "execution_count": 4,
   "id": "025ce8db",
   "metadata": {},
   "outputs": [],
   "source": [
    "\n",
    "combined_texts = (df['clean_title'] + ' ' + df['clean_text_body']).tolist()\n"
   ]
  },
  {
   "cell_type": "code",
   "execution_count": 5,
   "id": "a5b0091d",
   "metadata": {},
   "outputs": [
    {
     "data": {
      "application/vnd.jupyter.widget-view+json": {
       "model_id": "a4575f9eacb5407b8769003e477fe481",
       "version_major": 2,
       "version_minor": 0
      },
      "text/plain": [
       "Batches:   0%|          | 0/37 [00:00<?, ?it/s]"
      ]
     },
     "metadata": {},
     "output_type": "display_data"
    }
   ],
   "source": [
    "model = SentenceTransformer('all-MiniLM-L6-v2')\n",
    "X_embed = model.encode(combined_texts, show_progress_bar=True)"
   ]
  },
  {
   "cell_type": "code",
   "execution_count": 6,
   "id": "14093689",
   "metadata": {},
   "outputs": [],
   "source": [
    "from sklearn.decomposition import PCA\n",
    "pca = PCA(n_components=192)\n",
    "X_pca = pca.fit_transform(X_embed)"
   ]
  },
  {
   "cell_type": "code",
   "execution_count": 7,
   "id": "536c71f0",
   "metadata": {},
   "outputs": [],
   "source": [
    "X_norm = normalize(X_pca)"
   ]
  },
  {
   "cell_type": "code",
   "execution_count": 8,
   "id": "248a06ed",
   "metadata": {},
   "outputs": [],
   "source": [
    "dbscan = DBSCAN(eps=0.3, min_samples=3,metric='cosine')\n",
    "labels = dbscan.fit_predict(X_norm)\n"
   ]
  },
  {
   "cell_type": "code",
   "execution_count": 9,
   "id": "c72bbb3f",
   "metadata": {},
   "outputs": [
    {
     "name": "stdout",
     "output_type": "stream",
     "text": [
      "Silhouette Score: 0.702\n"
     ]
    }
   ],
   "source": [
    "mask = labels != -1\n",
    "if len(set(labels[mask])) > 1:\n",
    "    score = silhouette_score(X_norm[mask], labels[mask], metric='cosine')\n",
    "    print(\"Silhouette Score:\", round(score, 4))\n",
    "else:\n",
    "    print(\"Not enough distinct clusters found for silhouette score.\")\n"
   ]
  },
  {
   "cell_type": "code",
   "execution_count": 10,
   "id": "5564e317",
   "metadata": {},
   "outputs": [
    {
     "data": {
      "image/png": "[encoded data removed]",
      "text/plain": [
       "<Figure size 640x480 with 1 Axes>"
      ]
     },
     "metadata": {},
     "output_type": "display_data"
    }
   ],
   "source": [
    "import numpy as np\n",
    "import matplotlib.pyplot as plt\n",
    "unique_labels = set(labels)\n",
    "colors = plt.cm.tab20(np.linspace(0, 1, len(unique_labels)))\n",
    "\n",
    "for k, col in zip(unique_labels, colors):\n",
    "    class_mask = labels == k\n",
    "    if k == -1:\n",
    "        # Noise\n",
    "        col = [0, 0, 0, 1]  # black\n",
    "    plt.scatter(X_embed[class_mask, 0], X_embed[class_mask, 1],\n",
    "                c=[col], s=6, label=f'Cluster {k}')\n",
    "    \n",
    "plt.legend()\n",
    "plt.title(\"DBSCAN Clusters (with Noise)\")\n",
    "plt.show()\n"
   ]
  }
 ],
 "metadata": {
  "kernelspec": {
   "display_name": "Python 3",
   "language": "python",
   "name": "python3"
  },
  "language_info": {
   "codemirror_mode": {
    "name": "ipython",
    "version": 3
   },
   "file_extension": ".py",
   "mimetype": "text/x-python",
   "name": "python",
   "nbconvert_exporter": "python",
   "pygments_lexer": "ipython3",
   "version": "3.9.13"
  }
 },
 "nbformat": 4,
 "nbformat_minor": 5
}
