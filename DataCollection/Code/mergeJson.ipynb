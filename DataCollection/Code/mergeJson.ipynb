{
 "cells": [
  {
   "cell_type": "code",
   "execution_count": 5,
   "id": "9bcb2bed",
   "metadata": {},
   "outputs": [
    {
     "name": "stdout",
     "output_type": "stream",
     "text": [
      "\n",
      "✅ Combined data saved to: redditdata_combined.json\n",
      "✅ No merge conflicts found.\n"
     ]
    }
   ],
   "source": [
    "import json\n",
    "from collections import defaultdict\n",
    "import glob\n",
    "import os\n",
    "\n",
    "\n",
    "# List of JSON files you want to combine\n",
    "json_files = [\n",
    "    \"C:/Users/w065pxg/Desktop/ML/Tanvi Banerjee 2024 MI/Final Project/StudentResearch/final/Datacollection/Lonleytogether.json\",\n",
    "    \"C:/Users/w065pxg/Desktop/ML/Tanvi Banerjee 2024 MI/Final Project/StudentResearch/final/Datacollection/redditloneliness.json\",\n",
    "    \"C:/Users/w065pxg/Desktop/ML/Tanvi Banerjee 2024 MI/Final Project/StudentResearch/final/Datacollection/rForeverAlone.json\",\n",
    "    \"C:/Users/w065pxg/Desktop/ML/Tanvi Banerjee 2024 MI/Final Project/StudentResearch/final/Datacollection/rlonely.json\"\n",
    "]\n",
    "\n",
    "\n",
    "combined_data = {\n",
    "    \"meta\": {},\n",
    "    \"flair\": defaultdict(dict)\n",
    "}\n",
    "\n",
    "# For logging issues\n",
    "conflicts = {\n",
    "    \"meta_duplicates\": [],\n",
    "    \"flair_duplicates\": []\n",
    "}\n",
    "\n",
    "for file in json_files:\n",
    "    if not os.path.exists(file):\n",
    "        print(f\"❌ File not found: {file}\")\n",
    "        continue\n",
    "\n",
    "    try:\n",
    "        with open(file, 'r', encoding='utf-8') as f:\n",
    "            data = json.load(f)\n",
    "    except json.JSONDecodeError:\n",
    "        print(f\"❌ Failed to decode JSON: {file}\")\n",
    "        continue\n",
    "\n",
    "    # ✅ Merge meta safely\n",
    "    for post_id, post_meta in data.get(\"meta\", {}).items():\n",
    "        if post_id in combined_data[\"meta\"]:\n",
    "            conflicts[\"meta_duplicates\"].append((file, post_id))\n",
    "        combined_data[\"meta\"][post_id] = post_meta\n",
    "\n",
    "    # ✅ Merge flair safely\n",
    "    for flair, posts in data.get(\"flair\", {}).items():\n",
    "        for post_id, post_content in posts.items():\n",
    "            if post_id in combined_data[\"flair\"][flair]:\n",
    "                conflicts[\"flair_duplicates\"].append((file, flair, post_id))\n",
    "            combined_data[\"flair\"][flair][post_id] = post_content\n",
    "\n",
    "# Convert defaultdict to dict\n",
    "combined_data[\"flair\"] = dict(combined_data[\"flair\"])\n",
    "\n",
    "# Save combined file\n",
    "output_file = \"redditdata_combined.json\"\n",
    "with open(output_file, \"w\", encoding=\"utf-8\") as out_file:\n",
    "    json.dump(combined_data, out_file, indent=2)\n",
    "\n",
    "print(f\"\\n✅ Combined data saved to: {output_file}\")\n",
    "\n",
    "# Report conflicts\n",
    "if conflicts[\"meta_duplicates\"] or conflicts[\"flair_duplicates\"]:\n",
    "    print(\"\\n⚠️ Merge conflicts detected:\")\n",
    "    if conflicts[\"meta_duplicates\"]:\n",
    "        print(\"  - Meta Duplicates:\")\n",
    "        for file, pid in conflicts[\"meta_duplicates\"]:\n",
    "            print(f\"    {file} → post ID: {pid}\")\n",
    "    if conflicts[\"flair_duplicates\"]:\n",
    "        print(\"  - Flair Duplicates:\")\n",
    "        for file, flair, pid in conflicts[\"flair_duplicates\"]:\n",
    "            print(f\"    {file} → flair: {flair}, post ID: {pid}\")\n",
    "else:\n",
    "    print(\"✅ No merge conflicts found.\")"
   ]
  },
  {
   "cell_type": "code",
   "execution_count": null,
   "id": "81b631c7",
   "metadata": {},
   "outputs": [],
   "source": []
  }
 ],
 "metadata": {
  "kernelspec": {
   "display_name": "Python 3",
   "language": "python",
   "name": "python3"
  },
  "language_info": {
   "codemirror_mode": {
    "name": "ipython",
    "version": 3
   },
   "file_extension": ".py",
   "mimetype": "text/x-python",
   "name": "python",
   "nbconvert_exporter": "python",
   "pygments_lexer": "ipython3",
   "version": "3.11.3"
  }
 },
 "nbformat": 4,
 "nbformat_minor": 5
}
